{
 "cells": [
  {
   "cell_type": "code",
   "execution_count": 16,
   "metadata": {},
   "outputs": [
    {
     "name": "stderr",
     "output_type": "stream",
     "text": [
      "/Users/lawrenceliu/Documents/STAT3 Inhibitor/.venv/lib/python3.9/site-packages/openpyxl/worksheet/_reader.py:312: UserWarning: Unknown extension is not supported and will be removed\n",
      "  warn(msg)\n"
     ]
    }
   ],
   "source": [
    "import pandas as pd\n",
    "xls = pd.ExcelFile(r'/Users/lawrenceliu/Documents/STAT3 Inhibitor/data_sheets.xlsx')\n",
    "#df = pd.concat(pd.read_excel(r'/Users/lawrenceliu/Documents/STAT3 Inhibitor/data_sheets.xlsx', sheet_name=None), ignore_index=True)\n",
    "pd.set_option('display.max_rows', None)\n",
    "\n",
    "df = pd.read_excel(r'/Users/lawrenceliu/Documents/STAT3 Inhibitor/data_sheets.xlsx')\n",
    "\n",
    "df_master = pd.DataFrame()"
   ]
  },
  {
   "cell_type": "code",
   "execution_count": 17,
   "metadata": {},
   "outputs": [
    {
     "name": "stderr",
     "output_type": "stream",
     "text": [
      "/Users/lawrenceliu/Documents/STAT3 Inhibitor/.venv/lib/python3.9/site-packages/openpyxl/worksheet/_reader.py:312: UserWarning: Unknown extension is not supported and will be removed\n",
      "  warn(msg)\n",
      "/var/folders/g6/hj36j63d1bb31ss9rnq7w_xr0000gn/T/ipykernel_81712/962954135.py:30: FutureWarning: The frame.append method is deprecated and will be removed from pandas in a future version. Use pandas.concat instead.\n",
      "  df_master = df_master.append(df)\n",
      "/Users/lawrenceliu/Documents/STAT3 Inhibitor/.venv/lib/python3.9/site-packages/openpyxl/worksheet/_reader.py:312: UserWarning: Unknown extension is not supported and will be removed\n",
      "  warn(msg)\n",
      "/var/folders/g6/hj36j63d1bb31ss9rnq7w_xr0000gn/T/ipykernel_81712/962954135.py:30: FutureWarning: The frame.append method is deprecated and will be removed from pandas in a future version. Use pandas.concat instead.\n",
      "  df_master = df_master.append(df)\n",
      "/Users/lawrenceliu/Documents/STAT3 Inhibitor/.venv/lib/python3.9/site-packages/openpyxl/worksheet/_reader.py:312: UserWarning: Unknown extension is not supported and will be removed\n",
      "  warn(msg)\n",
      "/var/folders/g6/hj36j63d1bb31ss9rnq7w_xr0000gn/T/ipykernel_81712/962954135.py:30: FutureWarning: The frame.append method is deprecated and will be removed from pandas in a future version. Use pandas.concat instead.\n",
      "  df_master = df_master.append(df)\n",
      "/Users/lawrenceliu/Documents/STAT3 Inhibitor/.venv/lib/python3.9/site-packages/openpyxl/worksheet/_reader.py:312: UserWarning: Unknown extension is not supported and will be removed\n",
      "  warn(msg)\n",
      "/var/folders/g6/hj36j63d1bb31ss9rnq7w_xr0000gn/T/ipykernel_81712/962954135.py:30: FutureWarning: The frame.append method is deprecated and will be removed from pandas in a future version. Use pandas.concat instead.\n",
      "  df_master = df_master.append(df)\n",
      "/Users/lawrenceliu/Documents/STAT3 Inhibitor/.venv/lib/python3.9/site-packages/openpyxl/worksheet/_reader.py:312: UserWarning: Unknown extension is not supported and will be removed\n",
      "  warn(msg)\n",
      "/var/folders/g6/hj36j63d1bb31ss9rnq7w_xr0000gn/T/ipykernel_81712/962954135.py:30: FutureWarning: The frame.append method is deprecated and will be removed from pandas in a future version. Use pandas.concat instead.\n",
      "  df_master = df_master.append(df)\n",
      "/Users/lawrenceliu/Documents/STAT3 Inhibitor/.venv/lib/python3.9/site-packages/openpyxl/worksheet/_reader.py:312: UserWarning: Unknown extension is not supported and will be removed\n",
      "  warn(msg)\n",
      "/var/folders/g6/hj36j63d1bb31ss9rnq7w_xr0000gn/T/ipykernel_81712/962954135.py:30: FutureWarning: The frame.append method is deprecated and will be removed from pandas in a future version. Use pandas.concat instead.\n",
      "  df_master = df_master.append(df)\n",
      "/Users/lawrenceliu/Documents/STAT3 Inhibitor/.venv/lib/python3.9/site-packages/openpyxl/worksheet/_reader.py:312: UserWarning: Unknown extension is not supported and will be removed\n",
      "  warn(msg)\n",
      "/var/folders/g6/hj36j63d1bb31ss9rnq7w_xr0000gn/T/ipykernel_81712/962954135.py:30: FutureWarning: The frame.append method is deprecated and will be removed from pandas in a future version. Use pandas.concat instead.\n",
      "  df_master = df_master.append(df)\n",
      "/Users/lawrenceliu/Documents/STAT3 Inhibitor/.venv/lib/python3.9/site-packages/openpyxl/worksheet/_reader.py:312: UserWarning: Unknown extension is not supported and will be removed\n",
      "  warn(msg)\n",
      "/var/folders/g6/hj36j63d1bb31ss9rnq7w_xr0000gn/T/ipykernel_81712/962954135.py:30: FutureWarning: The frame.append method is deprecated and will be removed from pandas in a future version. Use pandas.concat instead.\n",
      "  df_master = df_master.append(df)\n"
     ]
    }
   ],
   "source": [
    "for name in xls.sheet_names:\n",
    "    df = xls.parse(name)\n",
    "    df.iloc[0:,0] =  int(''.join(filter(str.isdigit, df.columns[0]))) #add the day1 to all rows in column 0 as integer\n",
    "\n",
    "    df = df.drop(df.columns[[6,7,8,10,11,12]], axis = 1) #drop all useless rows\n",
    "    df.columns = df.iloc[0] #column header set to be the first row\n",
    "    df = df.iloc[1:] #get rid of the first row \n",
    "    df = df.reset_index()\n",
    "    del df['index']\n",
    "\n",
    "    ###copy all values of treatment\n",
    "    df.iloc[0:5, 1] = df.iloc[0,1] \n",
    "    df.iloc[6:11, 1] = df.iloc[6,1]\n",
    "    df.iloc[11:16, 1] = df.iloc[11, 1]\n",
    "    df.iloc[16:20, 1] = df.iloc[16, 1]\n",
    "    df.iloc[21:27, 1] = df.iloc[21, 1]\n",
    "    df.iloc[27:31, 1] = df.iloc[27, 1]\n",
    "\n",
    "    df = df.iloc[1:] #delete first row\n",
    "\n",
    "\n",
    "    df = df.reset_index()\n",
    "    del df['index']\n",
    "\n",
    "    df = df.drop([4,10,15,19,20,26])\n",
    "\n",
    "    df = df.reset_index()\n",
    "    del df['index']\n",
    "    df.columns = ['Day','Treatment','ID','Length','Width','Volume','Weight']\n",
    "    df_master = df_master.append(df)\n",
    "    # display(df)"
   ]
  },
  {
   "cell_type": "code",
   "execution_count": 18,
   "metadata": {},
   "outputs": [],
   "source": [
    "df_master[\"ID\"] = df_master['Treatment'] +\"_\"+ df_master[\"ID\"].astype(str)\n",
    "df_master = df_master[['Day','Treatment','ID','Volume', \"Length\",\"Width\",\"Weight\"]]\n",
    "# df_master = df_master[['Day','Treatment','ID','Volume']]\n",
    "\n"
   ]
  },
  {
   "cell_type": "code",
   "execution_count": 19,
   "metadata": {},
   "outputs": [
    {
     "data": {
      "text/html": [
       "<div>\n",
       "<style scoped>\n",
       "    .dataframe tbody tr th:only-of-type {\n",
       "        vertical-align: middle;\n",
       "    }\n",
       "\n",
       "    .dataframe tbody tr th {\n",
       "        vertical-align: top;\n",
       "    }\n",
       "\n",
       "    .dataframe thead th {\n",
       "        text-align: right;\n",
       "    }\n",
       "</style>\n",
       "<table border=\"1\" class=\"dataframe\">\n",
       "  <thead>\n",
       "    <tr style=\"text-align: right;\">\n",
       "      <th></th>\n",
       "      <th>Day</th>\n",
       "      <th>Treatment</th>\n",
       "      <th>ID</th>\n",
       "      <th>Volume</th>\n",
       "      <th>Length</th>\n",
       "      <th>Width</th>\n",
       "      <th>Weight</th>\n",
       "    </tr>\n",
       "  </thead>\n",
       "  <tbody>\n",
       "    <tr>\n",
       "      <th>0</th>\n",
       "      <td>1.0</td>\n",
       "      <td>control#1</td>\n",
       "      <td>control#1_1.0</td>\n",
       "      <td>301.341074</td>\n",
       "      <td>9.37</td>\n",
       "      <td>8.02</td>\n",
       "      <td>19.2</td>\n",
       "    </tr>\n",
       "    <tr>\n",
       "      <th>1</th>\n",
       "      <td>1.0</td>\n",
       "      <td>control#1</td>\n",
       "      <td>control#1_2.0</td>\n",
       "      <td>183.307988</td>\n",
       "      <td>7.59</td>\n",
       "      <td>6.95</td>\n",
       "      <td>18.1</td>\n",
       "    </tr>\n",
       "    <tr>\n",
       "      <th>2</th>\n",
       "      <td>1.0</td>\n",
       "      <td>control#1</td>\n",
       "      <td>control#1_3.0</td>\n",
       "      <td>225.957154</td>\n",
       "      <td>9.41</td>\n",
       "      <td>6.93</td>\n",
       "      <td>18.5</td>\n",
       "    </tr>\n",
       "    <tr>\n",
       "      <th>3</th>\n",
       "      <td>1.0</td>\n",
       "      <td>control#1</td>\n",
       "      <td>control#1_4.0</td>\n",
       "      <td>158.758775</td>\n",
       "      <td>7.18</td>\n",
       "      <td>6.65</td>\n",
       "      <td>16.1</td>\n",
       "    </tr>\n",
       "    <tr>\n",
       "      <th>4</th>\n",
       "      <td>1.0</td>\n",
       "      <td>control#2</td>\n",
       "      <td>control#2_1.0</td>\n",
       "      <td>152.219322</td>\n",
       "      <td>8.29</td>\n",
       "      <td>6.06</td>\n",
       "      <td>18.5</td>\n",
       "    </tr>\n",
       "  </tbody>\n",
       "</table>\n",
       "</div>"
      ],
      "text/plain": [
       "   Day  Treatment             ID      Volume Length Width Weight\n",
       "0  1.0  control#1  control#1_1.0  301.341074   9.37  8.02   19.2\n",
       "1  1.0  control#1  control#1_2.0  183.307988   7.59  6.95   18.1\n",
       "2  1.0  control#1  control#1_3.0  225.957154   9.41  6.93   18.5\n",
       "3  1.0  control#1  control#1_4.0  158.758775   7.18  6.65   16.1\n",
       "4  1.0  control#2  control#2_1.0  152.219322   8.29  6.06   18.5"
      ]
     },
     "metadata": {},
     "output_type": "display_data"
    }
   ],
   "source": [
    "display(df_master.head())"
   ]
  },
  {
   "cell_type": "code",
   "execution_count": 20,
   "metadata": {},
   "outputs": [],
   "source": [
    "df_master.to_csv('data_processed.csv', index=False)"
   ]
  },
  {
   "cell_type": "code",
   "execution_count": null,
   "metadata": {},
   "outputs": [],
   "source": []
  },
  {
   "cell_type": "code",
   "execution_count": null,
   "metadata": {},
   "outputs": [],
   "source": [
    "\n"
   ]
  },
  {
   "cell_type": "markdown",
   "metadata": {},
   "source": []
  },
  {
   "cell_type": "code",
   "execution_count": 21,
   "metadata": {},
   "outputs": [
    {
     "data": {
      "text/plain": [
       "0        volume\n",
       "1           NaN\n",
       "2    301.341074\n",
       "3    183.307988\n",
       "4    225.957154\n",
       "Name: Unnamed: 5, dtype: object"
      ]
     },
     "execution_count": 21,
     "metadata": {},
     "output_type": "execute_result"
    }
   ],
   "source": []
  },
  {
   "cell_type": "code",
   "execution_count": null,
   "metadata": {},
   "outputs": [],
   "source": []
  }
 ],
 "metadata": {
  "kernelspec": {
   "display_name": "Python 3.9.7 ('.venv': venv)",
   "language": "python",
   "name": "python3"
  },
  "language_info": {
   "codemirror_mode": {
    "name": "ipython",
    "version": 3
   },
   "file_extension": ".py",
   "mimetype": "text/x-python",
   "name": "python",
   "nbconvert_exporter": "python",
   "pygments_lexer": "ipython3",
   "version": "3.9.7"
  },
  "orig_nbformat": 4,
  "vscode": {
   "interpreter": {
    "hash": "0882d3f6a9ad49f8442b04569368b1835ca8bf415480609c755ee18b64db861c"
   }
  }
 },
 "nbformat": 4,
 "nbformat_minor": 2
}
